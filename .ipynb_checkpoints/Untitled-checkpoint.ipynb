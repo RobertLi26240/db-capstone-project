{
 "cells": [
  {
   "cell_type": "code",
   "execution_count": 2,
   "id": "c72ef995",
   "metadata": {},
   "outputs": [],
   "source": [
    "# Task 1\n",
    "import mysql.connector as connector"
   ]
  },
  {
   "cell_type": "code",
   "execution_count": 3,
   "id": "200bc49f",
   "metadata": {},
   "outputs": [],
   "source": [
    "connection = connector.connect(user = \"root\", password = \"123456\")"
   ]
  },
  {
   "cell_type": "code",
   "execution_count": 5,
   "id": "b5a41cba",
   "metadata": {},
   "outputs": [],
   "source": [
    "connection = connector.connect(user = \"root\", password = \"123456\", db = \"mydb\") "
   ]
  },
  {
   "cell_type": "code",
   "execution_count": 6,
   "id": "ceb68bad",
   "metadata": {},
   "outputs": [],
   "source": [
    "cursor = connection.cursor()\n"
   ]
  },
  {
   "cell_type": "code",
   "execution_count": 14,
   "id": "b929ac84",
   "metadata": {},
   "outputs": [],
   "source": [
    "show_tables_query = \"SHOW tables;\" \n",
    "cursor.execute(show_tables_query)"
   ]
  },
  {
   "cell_type": "code",
   "execution_count": 15,
   "id": "06f70cf2",
   "metadata": {},
   "outputs": [
    {
     "name": "stdout",
     "output_type": "stream",
     "text": [
      "[('bookings',), ('customers',), ('menu',), ('orderdelivery',), ('orders',), ('ordersview',), ('staffs',)]\n"
     ]
    }
   ],
   "source": [
    "result = cursor.fetchall()\n",
    "print(result)"
   ]
  },
  {
   "cell_type": "code",
   "execution_count": 17,
   "id": "493acd1c",
   "metadata": {},
   "outputs": [],
   "source": [
    "Task_3_Solution = '''\n",
    "SELECT Distinct CustomerName, CustomerContacts\n",
    "From Customers inner join Orders\n",
    "on Customers.CustomerID = Orders.CustomerID\n",
    "Where Orders.OrderTotalCost >= 60\n",
    "'''\n",
    "\n",
    "cursor.execute(Task_3_Solution)"
   ]
  },
  {
   "cell_type": "code",
   "execution_count": null,
   "id": "96f61ee9",
   "metadata": {},
   "outputs": [],
   "source": []
  }
 ],
 "metadata": {
  "kernelspec": {
   "display_name": "Python 3 (ipykernel)",
   "language": "python",
   "name": "python3"
  },
  "language_info": {
   "codemirror_mode": {
    "name": "ipython",
    "version": 3
   },
   "file_extension": ".py",
   "mimetype": "text/x-python",
   "name": "python",
   "nbconvert_exporter": "python",
   "pygments_lexer": "ipython3",
   "version": "3.9.13"
  }
 },
 "nbformat": 4,
 "nbformat_minor": 5
}
